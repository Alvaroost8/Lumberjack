{
 "cells": [
  {
   "cell_type": "code",
   "execution_count": 12,
   "metadata": {
    "id": "7wZDq6GMEEas"
   },
   "outputs": [],
   "source": [
    "import re\n",
    "import json\n",
    "import requests\n",
    "import pytz\n",
    "import datetime\n",
    "from time import sleep\n",
    "\n",
    "def read_log_file(log_file_path):\n",
    "    log_list = []\n",
    "    with open(log_file_path, 'r') as file:\n",
    "        for line in file:\n",
    "          log_list.append(line.strip())\n",
    "    return log_list\n",
    "\n",
    "def log_segmentation(log):\n",
    "    match=re.search(\"^(?:(?:[\\w-])+\\.)+(?:[\\w-])+ ([0-9]+.[0-9]+.[0-9]+.[0-9]+) - - \\[\\d{2}/[A-Za-z]{2,3}/\\d{4}:(\\d{2}:\\d{2}:\\d{2}) \\+\\d+\\] \\\"([A-Z]+) (.+ HTTP/(?:[0-9]\\.)+[0-9])\\\" ([0-9]+) ([0-9]+) (?:\\\"-\\\" )?(?:\\\".+\\\" )?\\\"(.+)\\\"\",log)\n",
    "    if(match!=None):\n",
    "      return match.group(1), match.group(2), match.group(3), match.group(4), match.group(5), match.group(6), match.group(7)\n",
    "    else:\n",
    "      match=re.search(\"^(?:(?:[\\w-])+\\.)+(?:[\\w-])+ ([0-9]+.[0-9]+.[0-9]+.[0-9]+) - - \\[\\d{2}/[A-Za-z]{2,3}/\\d{4}:(\\d{2}:\\d{2}:\\d{2}) \\+\\d+\\] \\\"(.+)*\\\" ([0-9]+) ([0-9]+) \\\"-\\\" \\\"-\\\"\",log)\n",
    "      return match.group(1), match.group(2), None, match.group(3), match.group(4), match.group(5), None\n",
    "\n",
    "def geolocalizate_ip(ip):\n",
    "    api_url=\"http://ip-api.com/json/\"\n",
    "    parametros=[\"country\",\"lat\",\"lon\",\"timezone\"]\n",
    "    data={\"fields\":parametros}\n",
    "\n",
    "    res=requests.get(api_url+ip, data=data)\n",
    "    api_json_res=json.loads(res.content)\n",
    "\n",
    "    country=api_json_res[parametros[0]]\n",
    "    coords=(float(api_json_res[parametros[1]]),float(api_json_res[parametros[2]]))\n",
    "    time_zone=api_json_res[parametros[3]]\n",
    "\n",
    "    return country, coords, time_zone\n",
    "\n",
    "def calculate_local_time(time, time_zone):\n",
    "    time=time.split(\":\")\n",
    "\n",
    "    local=pytz.timezone(\"Europe/Madrid\")\n",
    "    origin=pytz.timezone(time_zone)\n",
    "\n",
    "    time_madrid=datetime.datetime.now(local)\n",
    "    hour=time_madrid.hour\n",
    "\n",
    "    time_origin=time_madrid.astimezone(origin)\n",
    "\n",
    "    log_time=[int(time[0])+time_origin.hour-hour,int(time[1]),int(time[2])]\n",
    "\n",
    "    if(log_time[0]>23):\n",
    "        log_time[0]-=24\n",
    "    elif(log_time[0]<0):\n",
    "        log_time[0]+=24\n",
    "\n",
    "    return (log_time[0],log_time[1],log_time[2])\n",
    "\n",
    "# Extract features from log\n",
    "def extract_features(log):\n",
    "    ip, time, instruction, url, response, response_weight, browser=log_segmentation(log)\n",
    "    country, coords, time_zone=geolocalizate_ip(ip)\n",
    "    log_time=calculate_local_time(time, time_zone)\n",
    "    return ip, country, coords, log_time, instruction, url, response, response_weight, browser\n",
    "\n",
    "def list_of_ips(logs):\n",
    "    ips=[]\n",
    "    for log in logs:\n",
    "        ip, time, instruction, url, response, response_weight, browser=log_segmentation(log)\n",
    "        if(ip!=\"0\"):\n",
    "          ips.append(ip)\n",
    "    ips=set(ips)  #To remove duplicate IP addres and to unsort the logs\n",
    "    return list(ips)\n",
    "\n",
    "logs=read_log_file(\".\\Logs\\sitges_access.20240125.log\")"
   ]
  },
  {
   "cell_type": "code",
   "execution_count": 26,
   "metadata": {
    "colab": {
     "base_uri": "https://localhost:8080/"
    },
    "id": "KOzZK1FYR8_y",
    "outputId": "72a91a2b-fd06-4867-d60b-718946177234"
   },
   "outputs": [
    {
     "name": "stdout",
     "output_type": "stream",
     "text": [
      "4154\n"
     ]
    }
   ],
   "source": [
    "ip_list=list_of_ips(logs)\n",
    "print(len(ip_list))"
   ]
  },
  {
   "cell_type": "code",
   "execution_count": 14,
   "metadata": {
    "id": "ra0mnhsLULjf"
   },
   "outputs": [],
   "source": [
    "# Convert log to dictionary, with the ip as the key and the logs as the value\n",
    "def log_to_dict(logs, ip_list):\n",
    "    i=1\n",
    "    logs_ip_dict={}\n",
    "    time_zones={}\n",
    "    countries={}\n",
    "    coordinates={}\n",
    "    for log in logs:\n",
    "        ip, time, instruction, url, response, response_weight, browser=log_segmentation(log)\n",
    "        if ip not in logs_ip_dict:\n",
    "            country, coords, time_zone=geolocalizate_ip(ip)\n",
    "            log_time=calculate_local_time(time, time_zone)\n",
    "            time_zones[ip]=time_zone\n",
    "            countries[ip]=country\n",
    "            coordinates[ip]=coords\n",
    "            i+=1\n",
    "        else:\n",
    "            log_time=calculate_local_time(time, time_zones[ip])\n",
    "        log_dict={\"country\":countries[ip], \"coords\":coordinates[ip], \"log_time\":log_time, \"instruction\":instruction, \"url\":url, \"response\":response, \"response_weight\":response_weight, \"browser\":browser}\n",
    "        if ip in logs_ip_dict:\n",
    "            logs_ip_dict[ip].append(log_dict)\n",
    "        else:\n",
    "            logs_ip_dict[ip]=[log_dict]\n",
    "    return logs_ip_dict\n"
   ]
  },
  {
   "cell_type": "code",
   "execution_count": null,
   "metadata": {},
   "outputs": [],
   "source": [
    "log_dict=log_to_dict(logs, ip_list)"
   ]
  },
  {
   "cell_type": "code",
   "execution_count": 25,
   "metadata": {},
   "outputs": [],
   "source": [
    "with open(\"features_sitges_access.20240125.json\",\"w\") as f:\n",
    "    json.dump(log_dict,f)"
   ]
  }
 ],
 "metadata": {
  "colab": {
   "provenance": []
  },
  "kernelspec": {
   "display_name": "Python 3 (ipykernel)",
   "language": "python",
   "name": "python3"
  },
  "language_info": {
   "codemirror_mode": {
    "name": "ipython",
    "version": 3
   },
   "file_extension": ".py",
   "mimetype": "text/x-python",
   "name": "python",
   "nbconvert_exporter": "python",
   "pygments_lexer": "ipython3",
   "version": "3.11.5"
  }
 },
 "nbformat": 4,
 "nbformat_minor": 1
}
