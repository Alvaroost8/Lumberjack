{
 "cells": [
  {
   "cell_type": "markdown",
   "metadata": {},
   "source": [
    "# **Autoencoder Model - Anomaly Detection**\n",
    "### Group 8"
   ]
  },
  {
   "cell_type": "markdown",
   "metadata": {},
   "source": [
    "### **__Comments__**\n",
    "\n",
    "- **Model without finetuning**\n",
    "\n",
    "- Model was a basic autoencoder architecture (could be tuned further)\n",
    "\n",
    "- Evaluation methods need to be explored further\n",
    "\n",
    "- Batch size was chosen as 64 because of it being the standard should be changed\n",
    "\n",
    "- We need to create the (normalized) score values for the "
   ]
  },
  {
   "cell_type": "code",
   "execution_count": 12,
   "metadata": {},
   "outputs": [],
   "source": [
    "# Libraries\n",
    "import json\n",
    "from pandas import DataFrame\n",
    "import pandas as pd\n",
    "import numpy as np\n",
    "from sklearn.ensemble import IsolationForest\n",
    "from sklearn.pipeline import Pipeline\n",
    "import matplotlib.pyplot as plt\n",
    "import seaborn as sns\n",
    "import torch\n",
    "import torch.nn as nn\n",
    "from sklearn.preprocessing import OneHotEncoder\n",
    "from sklearn.compose import ColumnTransformer\n",
    "from sklearn.model_selection import train_test_split\n",
    "from torch.utils.data import DataLoader, Dataset\n",
    "from sklearn.preprocessing import StandardScaler\n",
    "import torch.optim as optim\n",
    "from torch.utils.data import DataLoader, TensorDataset\n",
    "\n",
    "# Random state/seed\n",
    "random_state = 42\n"
   ]
  },
  {
   "cell_type": "code",
   "execution_count": 13,
   "metadata": {},
   "outputs": [],
   "source": [
    "features = open(\"features.json\",)\n",
    "data_dict=json.load(features)"
   ]
  },
  {
   "cell_type": "code",
   "execution_count": 14,
   "metadata": {},
   "outputs": [],
   "source": [
    "def time_diff(features):\n",
    "    for ip in features:\n",
    "        for i in range(len(features[ip])):\n",
    "            log_time=list(features[ip][i][\"log_time\"])\n",
    "            if(i==0):\n",
    "                features[ip][i][\"time_diff\"]=-1\n",
    "            else:\n",
    "                if((log_time[0]-features[ip][i-1][\"log_time\"][0])<0):\n",
    "                    features[ip][i][\"time_diff\"]=-1\n",
    "                else:\n",
    "                    time_diff=0\n",
    "                    if((log_time[2]-features[ip][i-1][\"log_time\"][2])<0):\n",
    "                        log_time[2]+=60\n",
    "                        log_time[1]-=1\n",
    "                    time_diff+=log_time[2]-features[ip][i-1][\"log_time\"][2]\n",
    "                    if((log_time[1]-features[ip][i-1][\"log_time\"][1])<0):\n",
    "                        log_time[1]+=60\n",
    "                        log_time[0]-=1\n",
    "                    time_diff+=(log_time[1]-features[ip][i-1][\"log_time\"][1])*60\n",
    "                    time_diff+=(log_time[0]-features[ip][i-1][\"log_time\"][0])*3600\n",
    "                    if(time_diff<0):\n",
    "                        features[ip][i][\"time_diff\"]=-1\n",
    "                    else:\n",
    "                        features[ip][i][\"time_diff\"]=time_diff\n",
    "    return features"
   ]
  },
  {
   "cell_type": "code",
   "execution_count": 15,
   "metadata": {},
   "outputs": [],
   "source": [
    "data_dict=time_diff(data_dict)"
   ]
  },
  {
   "cell_type": "code",
   "execution_count": 16,
   "metadata": {},
   "outputs": [],
   "source": [
    "l_ip=[]\n",
    "l_lon=[]\n",
    "l_lat=[]\n",
    "l_time=[]\n",
    "l_time_diff=[]\n",
    "l_inst=[]\n",
    "l_url=[]\n",
    "l_response=[]\n",
    "l_weight=[]\n",
    "for i in data_dict.keys():\n",
    "    for log in data_dict[i]:\n",
    "        l_ip.append(i)\n",
    "        l_lat.append(log[\"coords\"][0])\n",
    "        l_lon.append(log[\"coords\"][1])\n",
    "        l_time.append(log[\"log_time\"])\n",
    "        l_time_diff.append(log[\"time_diff\"])\n",
    "        l_inst.append(log[\"instruction\"])\n",
    "        l_url.append(log[\"url\"])\n",
    "        l_response.append(log[\"response\"])\n",
    "        l_weight.append(log[\"response_weight\"])"
   ]
  },
  {
   "cell_type": "code",
   "execution_count": 17,
   "metadata": {},
   "outputs": [],
   "source": [
    "for i in range(len(l_time)):\n",
    "    l_time[i]=l_time[i][0]"
   ]
  },
  {
   "cell_type": "code",
   "execution_count": 18,
   "metadata": {},
   "outputs": [
    {
     "name": "stdout",
     "output_type": "stream",
     "text": [
      "47.76.35.19\n",
      "22.3193\n",
      "114.169\n",
      "6\n",
      "HEAD\n",
      "/fr/pag492/explora-platges-i-ports-2/id12/les-anquines.htm HTTP/1.1\n",
      "301\n",
      "4840\n",
      "object\n",
      "float64\n",
      "float64\n",
      "int64\n",
      "object\n",
      "object\n",
      "object\n",
      "object\n"
     ]
    }
   ],
   "source": [
    "l_ip=pd.Series(l_ip)\n",
    "l_lat=pd.Series(l_lat)\n",
    "l_lon=pd.Series(l_lon)\n",
    "l_time=pd.Series(l_time)\n",
    "l_inst=pd.Series(l_inst)\n",
    "l_url=pd.Series(l_url)\n",
    "l_response=pd.Series(l_response)\n",
    "l_weight=pd.Series(l_weight)\n",
    "\n",
    "\n",
    "# Example of data\n",
    "print(l_ip[0]) # 35.170.74.25\n",
    "print(l_lat[0]) # 22.3193\n",
    "print(l_lon[0]) # 40.7128\n",
    "print(l_time[0]) # 18\n",
    "print(l_inst[0]) # HEAD\n",
    "print(l_url[0]) # /fr/que-faire/que-fer-sitges-de-nit.htm HTTP/2.0\n",
    "print(l_response[0]) # 200\n",
    "print(l_weight[0]) # 9037\n",
    "\n",
    "\n",
    "print(l_ip.dtype) # object\n",
    "print(l_lat.dtype) # float64\n",
    "print(l_lon.dtype) # float64\n",
    "print(l_time.dtype) # int64\n",
    "print(l_inst.dtype) # object\n",
    "print(l_url.dtype) # object\n",
    "print(l_response.dtype) # object\n",
    "print(l_weight.dtype) # object"
   ]
  },
  {
   "cell_type": "code",
   "execution_count": 19,
   "metadata": {},
   "outputs": [],
   "source": [
    "frame = {\"IP\": l_ip,\"Lat\":l_lat,\"Lon\":l_lon,\"Time\":l_time,\"Time Diff\":l_time_diff,\"Instruction\":l_inst,\"URL\":l_url,\"Response\":l_response,\"Weight\":l_weight}\n",
    "data=DataFrame(frame)"
   ]
  },
  {
   "cell_type": "code",
   "execution_count": 20,
   "metadata": {},
   "outputs": [
    {
     "data": {
      "text/html": [
       "<div>\n",
       "<style scoped>\n",
       "    .dataframe tbody tr th:only-of-type {\n",
       "        vertical-align: middle;\n",
       "    }\n",
       "\n",
       "    .dataframe tbody tr th {\n",
       "        vertical-align: top;\n",
       "    }\n",
       "\n",
       "    .dataframe thead th {\n",
       "        text-align: right;\n",
       "    }\n",
       "</style>\n",
       "<table border=\"1\" class=\"dataframe\">\n",
       "  <thead>\n",
       "    <tr style=\"text-align: right;\">\n",
       "      <th></th>\n",
       "      <th>IP</th>\n",
       "      <th>Lat</th>\n",
       "      <th>Lon</th>\n",
       "      <th>Time</th>\n",
       "      <th>Time Diff</th>\n",
       "      <th>Instruction</th>\n",
       "      <th>URL</th>\n",
       "      <th>Response</th>\n",
       "      <th>Weight</th>\n",
       "    </tr>\n",
       "  </thead>\n",
       "  <tbody>\n",
       "    <tr>\n",
       "      <th>0</th>\n",
       "      <td>47.76.35.19</td>\n",
       "      <td>22.3193</td>\n",
       "      <td>114.1690</td>\n",
       "      <td>6</td>\n",
       "      <td>-1</td>\n",
       "      <td>HEAD</td>\n",
       "      <td>/fr/pag492/explora-platges-i-ports-2/id12/les-...</td>\n",
       "      <td>301</td>\n",
       "      <td>4840</td>\n",
       "    </tr>\n",
       "    <tr>\n",
       "      <th>1</th>\n",
       "      <td>47.76.35.19</td>\n",
       "      <td>22.3193</td>\n",
       "      <td>114.1690</td>\n",
       "      <td>6</td>\n",
       "      <td>1</td>\n",
       "      <td>HEAD</td>\n",
       "      <td>/fr/pag492/explora-platges-i-ports-2/id12/les-...</td>\n",
       "      <td>200</td>\n",
       "      <td>5223</td>\n",
       "    </tr>\n",
       "    <tr>\n",
       "      <th>2</th>\n",
       "      <td>47.76.35.19</td>\n",
       "      <td>22.3193</td>\n",
       "      <td>114.1690</td>\n",
       "      <td>6</td>\n",
       "      <td>5</td>\n",
       "      <td>HEAD</td>\n",
       "      <td>/fr/pag492/explora-platges-i-ports-2/id12/les-...</td>\n",
       "      <td>301</td>\n",
       "      <td>4840</td>\n",
       "    </tr>\n",
       "    <tr>\n",
       "      <th>3</th>\n",
       "      <td>47.76.35.19</td>\n",
       "      <td>22.3193</td>\n",
       "      <td>114.1690</td>\n",
       "      <td>6</td>\n",
       "      <td>1</td>\n",
       "      <td>HEAD</td>\n",
       "      <td>/fr/pag492/explora-platges-i-ports-2/id12/les-...</td>\n",
       "      <td>200</td>\n",
       "      <td>5260</td>\n",
       "    </tr>\n",
       "    <tr>\n",
       "      <th>4</th>\n",
       "      <td>47.76.35.19</td>\n",
       "      <td>22.3193</td>\n",
       "      <td>114.1690</td>\n",
       "      <td>6</td>\n",
       "      <td>1</td>\n",
       "      <td>GET</td>\n",
       "      <td>/fr/pag492/explora-platges-i-ports-2/id12/les-...</td>\n",
       "      <td>301</td>\n",
       "      <td>661</td>\n",
       "    </tr>\n",
       "    <tr>\n",
       "      <th>...</th>\n",
       "      <td>...</td>\n",
       "      <td>...</td>\n",
       "      <td>...</td>\n",
       "      <td>...</td>\n",
       "      <td>...</td>\n",
       "      <td>...</td>\n",
       "      <td>...</td>\n",
       "      <td>...</td>\n",
       "      <td>...</td>\n",
       "    </tr>\n",
       "    <tr>\n",
       "      <th>1077388</th>\n",
       "      <td>64.124.8.96</td>\n",
       "      <td>33.2749</td>\n",
       "      <td>-111.8870</td>\n",
       "      <td>2</td>\n",
       "      <td>1</td>\n",
       "      <td>GET</td>\n",
       "      <td>/media/site1/cache/images/port-aiguadolc-1.jpg...</td>\n",
       "      <td>200</td>\n",
       "      <td>278950</td>\n",
       "    </tr>\n",
       "    <tr>\n",
       "      <th>1077389</th>\n",
       "      <td>98.64.96.26</td>\n",
       "      <td>52.3667</td>\n",
       "      <td>4.9000</td>\n",
       "      <td>11</td>\n",
       "      <td>-1</td>\n",
       "      <td>GET</td>\n",
       "      <td>/nl/pl330/nieuws/kalender/id1113/he-mort-el-po...</td>\n",
       "      <td>404</td>\n",
       "      <td>7423</td>\n",
       "    </tr>\n",
       "    <tr>\n",
       "      <th>1077390</th>\n",
       "      <td>98.64.96.26</td>\n",
       "      <td>52.3667</td>\n",
       "      <td>4.9000</td>\n",
       "      <td>11</td>\n",
       "      <td>27</td>\n",
       "      <td>GET</td>\n",
       "      <td>/nl/pl330/nieuws/kalender/id1113/he-mort-el-po...</td>\n",
       "      <td>404</td>\n",
       "      <td>2815</td>\n",
       "    </tr>\n",
       "    <tr>\n",
       "      <th>1077391</th>\n",
       "      <td>90.74.194.156</td>\n",
       "      <td>39.5638</td>\n",
       "      <td>-0.3368</td>\n",
       "      <td>11</td>\n",
       "      <td>-1</td>\n",
       "      <td>GET</td>\n",
       "      <td>/media/site1/cache/images/dji-0077-2-redim-enc...</td>\n",
       "      <td>200</td>\n",
       "      <td>227390</td>\n",
       "    </tr>\n",
       "    <tr>\n",
       "      <th>1077392</th>\n",
       "      <td>90.74.194.156</td>\n",
       "      <td>39.5638</td>\n",
       "      <td>-0.3368</td>\n",
       "      <td>11</td>\n",
       "      <td>10</td>\n",
       "      <td>GET</td>\n",
       "      <td>/media/site1/cache/images/sitges-230704-chirin...</td>\n",
       "      <td>200</td>\n",
       "      <td>2013931</td>\n",
       "    </tr>\n",
       "  </tbody>\n",
       "</table>\n",
       "<p>1077393 rows × 9 columns</p>\n",
       "</div>"
      ],
      "text/plain": [
       "                    IP      Lat       Lon  Time  Time Diff Instruction  \\\n",
       "0          47.76.35.19  22.3193  114.1690     6         -1        HEAD   \n",
       "1          47.76.35.19  22.3193  114.1690     6          1        HEAD   \n",
       "2          47.76.35.19  22.3193  114.1690     6          5        HEAD   \n",
       "3          47.76.35.19  22.3193  114.1690     6          1        HEAD   \n",
       "4          47.76.35.19  22.3193  114.1690     6          1         GET   \n",
       "...                ...      ...       ...   ...        ...         ...   \n",
       "1077388    64.124.8.96  33.2749 -111.8870     2          1         GET   \n",
       "1077389    98.64.96.26  52.3667    4.9000    11         -1         GET   \n",
       "1077390    98.64.96.26  52.3667    4.9000    11         27         GET   \n",
       "1077391  90.74.194.156  39.5638   -0.3368    11         -1         GET   \n",
       "1077392  90.74.194.156  39.5638   -0.3368    11         10         GET   \n",
       "\n",
       "                                                       URL Response   Weight  \n",
       "0        /fr/pag492/explora-platges-i-ports-2/id12/les-...      301     4840  \n",
       "1        /fr/pag492/explora-platges-i-ports-2/id12/les-...      200     5223  \n",
       "2        /fr/pag492/explora-platges-i-ports-2/id12/les-...      301     4840  \n",
       "3        /fr/pag492/explora-platges-i-ports-2/id12/les-...      200     5260  \n",
       "4        /fr/pag492/explora-platges-i-ports-2/id12/les-...      301      661  \n",
       "...                                                    ...      ...      ...  \n",
       "1077388  /media/site1/cache/images/port-aiguadolc-1.jpg...      200   278950  \n",
       "1077389  /nl/pl330/nieuws/kalender/id1113/he-mort-el-po...      404     7423  \n",
       "1077390  /nl/pl330/nieuws/kalender/id1113/he-mort-el-po...      404     2815  \n",
       "1077391  /media/site1/cache/images/dji-0077-2-redim-enc...      200   227390  \n",
       "1077392  /media/site1/cache/images/sitges-230704-chirin...      200  2013931  \n",
       "\n",
       "[1077393 rows x 9 columns]"
      ]
     },
     "execution_count": 20,
     "metadata": {},
     "output_type": "execute_result"
    }
   ],
   "source": [
    "data"
   ]
  },
  {
   "cell_type": "markdown",
   "metadata": {},
   "source": [
    "**Model Pipeline & Split**"
   ]
  },
  {
   "cell_type": "code",
   "execution_count": 23,
   "metadata": {},
   "outputs": [
    {
     "ename": "",
     "evalue": "",
     "output_type": "error",
     "traceback": [
      "\u001b[1;31mThe Kernel crashed while executing code in the current cell or a previous cell. \n",
      "\u001b[1;31mPlease review the code in the cell(s) to identify a possible cause of the failure. \n",
      "\u001b[1;31mClick <a href='https://aka.ms/vscodeJupyterKernelCrash'>here</a> for more info. \n",
      "\u001b[1;31mView Jupyter <a href='command:jupyter.viewOutput'>log</a> for further details."
     ]
    }
   ],
   "source": [
    "# Convert string values to numerical types\n",
    "frame[\"Time\"] = [float(value) for value in frame[\"Time\"]]\n",
    "frame[\"Weight\"] = [float(value) for value in frame[\"Weight\"]]\n",
    "frame[\"Time Diff\"] = [float(value) for value in frame[\"Time Diff\"]]\n",
    "frame[\"Lat\"] = [float(value) for value in frame[\"Lat\"]]\n",
    "frame[\"Lon\"] = [float(value) for value in frame[\"Lon\"]]\n",
    "\n",
    "# One-hot encode categorical features\n",
    "categorical_features = [\"Instruction\", \"URL\", \"Response\"]\n",
    "encoded_categorical_data = []\n",
    "for feature in categorical_features:\n",
    "    encoded_feature = OneHotEncoder(handle_unknown='ignore').fit_transform(np.array(frame[feature]).reshape(-1, 1)).toarray()\n",
    "    encoded_categorical_data.append(encoded_feature)\n",
    "\n",
    "# Combine numerical features and encoded categorical features\n",
    "X_numerical = torch.tensor(\n",
    "    [frame[\"Time\"], frame[\"Weight\"], frame[\"Time Diff\"], frame[\"Lat\"], frame[\"Lon\"]],\n",
    "    dtype=torch.float32\n",
    ").T\n",
    "X_categorical = torch.tensor(np.concatenate(encoded_categorical_data, axis=1), dtype=torch.float32)\n",
    "\n",
    "# Combine numerical and categorical features\n",
    "X_processed = torch.cat((X_numerical, X_categorical), dim=1)\n",
    "\n",
    "\n",
    "# Split the data into training and testing sets\n",
    "train_features, test_features = train_test_split(X_processed, test_size=0.2, random_state=42)\n",
    "\n",
    "# Define data loaders\n",
    "batch_size = 64\n",
    "train_loader = DataLoader(TensorDataset(train_features), batch_size=batch_size, shuffle=True)\n",
    "test_loader = DataLoader(TensorDataset(test_features), batch_size=batch_size)\n"
   ]
  },
  {
   "cell_type": "code",
   "execution_count": null,
   "metadata": {},
   "outputs": [
    {
     "data": {
      "text/plain": [
       "\"\\n# One-hot encode categorical features and standardize numerical features\\nct = ColumnTransformer(transformers=[\\n    ('encoder', OneHotEncoder(), ['Instruction', 'URL']),\\n    ('scaler', StandardScaler(), ['Lat', 'Lon', 'Time', 'Time Diff', 'Response', 'Weight'])\\n])\\n\\ndata_encoded = pd.DataFrame(ct.fit_transform(data))\\n\\n# Split data into train and test sets classic 80/20 split\\ntrain_data, test_data = train_test_split(data_encoded, test_size=0.2, random_state=42)\\n\\n# Convert data to PyTorch tensors\\ntrain_data_tensor = torch.tensor(train_data.values, dtype=torch.float32)\\ntest_data_tensor = torch.tensor(test_data.values, dtype=torch.float32)\\n\\n# Define the dataLoader\\nbatch_size = 64\\ntrain_loader = DataLoader(train_data_tensor, batch_size=batch_size, shuffle=True)\\n\\n\""
      ]
     },
     "execution_count": 11,
     "metadata": {},
     "output_type": "execute_result"
    }
   ],
   "source": [
    "'''\n",
    "# One-hot encode categorical features and standardize numerical features\n",
    "ct = ColumnTransformer(transformers=[\n",
    "    ('encoder', OneHotEncoder(), ['Instruction', 'URL']),\n",
    "    ('scaler', StandardScaler(), ['Lat', 'Lon', 'Time', 'Time Diff', 'Response', 'Weight'])\n",
    "])\n",
    "\n",
    "data_encoded = pd.DataFrame(ct.fit_transform(data))\n",
    "\n",
    "# Split data into train and test sets classic 80/20 split\n",
    "train_data, test_data = train_test_split(data_encoded, test_size=0.2, random_state=42)\n",
    "\n",
    "# Convert data to PyTorch tensors\n",
    "train_data_tensor = torch.tensor(train_data.values, dtype=torch.float32)\n",
    "test_data_tensor = torch.tensor(test_data.values, dtype=torch.float32)\n",
    "\n",
    "# Define the dataLoader\n",
    "batch_size = 64\n",
    "train_loader = DataLoader(train_data_tensor, batch_size=batch_size, shuffle=True)\n",
    "\n",
    "'''\n"
   ]
  },
  {
   "cell_type": "code",
   "execution_count": null,
   "metadata": {},
   "outputs": [],
   "source": [
    "# Define the autoencoder architecture\n",
    "class Autoencoder(nn.Module):\n",
    "    def __init__(self, input_dim):\n",
    "        super(Autoencoder, self).__init__()\n",
    "        self.encoder = nn.Sequential(\n",
    "            nn.Linear(input_dim, 64),\n",
    "            nn.ReLU(),\n",
    "            nn.Linear(64, 32),\n",
    "            nn.ReLU(),\n",
    "            nn.Linear(32, 16)\n",
    "        )\n",
    "        self.decoder = nn.Sequential(\n",
    "            nn.Linear(16, 32),\n",
    "            nn.ReLU(),\n",
    "            nn.Linear(32, 64),\n",
    "            nn.ReLU(),\n",
    "            nn.Linear(64, input_dim),\n",
    "            nn.Sigmoid()\n",
    "        )\n",
    "\n",
    "    def forward(self, x):\n",
    "        x = self.encoder(x)\n",
    "        x = self.decoder(x)\n",
    "        return x"
   ]
  },
  {
   "cell_type": "markdown",
   "metadata": {},
   "source": [
    "**Model Initialization**"
   ]
  },
  {
   "cell_type": "code",
   "execution_count": null,
   "metadata": {},
   "outputs": [
    {
     "ename": "NameError",
     "evalue": "name 'train_data' is not defined",
     "output_type": "error",
     "traceback": [
      "\u001b[0;31m---------------------------------------------------------------------------\u001b[0m",
      "\u001b[0;31mNameError\u001b[0m                                 Traceback (most recent call last)",
      "Cell \u001b[0;32mIn[13], line 2\u001b[0m\n\u001b[1;32m      1\u001b[0m \u001b[38;5;66;03m# Initialize the autoencoder model\u001b[39;00m\n\u001b[0;32m----> 2\u001b[0m input_dim \u001b[38;5;241m=\u001b[39m \u001b[43mtrain_data\u001b[49m\u001b[38;5;241m.\u001b[39mshape[\u001b[38;5;241m1\u001b[39m]\n\u001b[1;32m      3\u001b[0m autoencoder \u001b[38;5;241m=\u001b[39m Autoencoder(input_dim)\n\u001b[1;32m      5\u001b[0m \u001b[38;5;66;03m# Define loss function and optimizer\u001b[39;00m\n",
      "\u001b[0;31mNameError\u001b[0m: name 'train_data' is not defined"
     ]
    }
   ],
   "source": [
    "# Initialize the autoencoder model\n",
    "input_dim = train_data.shape[1]\n",
    "autoencoder = Autoencoder(input_dim)\n",
    "\n",
    "# Define loss function and optimizer\n",
    "criterion = nn.MSELoss()\n",
    "optimizer = optim.Adam(autoencoder.parameters(), lr=0.001)"
   ]
  },
  {
   "cell_type": "markdown",
   "metadata": {},
   "source": [
    "**Training**"
   ]
  },
  {
   "cell_type": "code",
   "execution_count": null,
   "metadata": {},
   "outputs": [],
   "source": [
    "# Train the autoencoder model\n",
    "num_epochs = 10\n",
    "for epoch in range(num_epochs):\n",
    "    running_loss = 0.0\n",
    "    for data in train_loader:\n",
    "        optimizer.zero_grad()\n",
    "        outputs = autoencoder(data)\n",
    "        loss = criterion(outputs, data)\n",
    "        loss.backward()\n",
    "        optimizer.step()\n",
    "        running_loss += loss.item()\n",
    "    print(f\"Epoch {epoch+1}/{num_epochs}, Loss: {running_loss}\")"
   ]
  },
  {
   "cell_type": "markdown",
   "metadata": {},
   "source": [
    "**Evaluation & Visualization**"
   ]
  },
  {
   "cell_type": "code",
   "execution_count": null,
   "metadata": {},
   "outputs": [],
   "source": [
    "# Evaluate the model (you can use reconstruction error as anomaly score)\n",
    "with torch.no_grad():\n",
    "    reconstructions = autoencoder(test_data_tensor)\n",
    "    reconstruction_loss = criterion(reconstructions, test_data_tensor)\n",
    "    print(f\"Reconstruction Loss: {reconstruction_loss.item()}\")"
   ]
  },
  {
   "cell_type": "code",
   "execution_count": null,
   "metadata": {},
   "outputs": [],
   "source": [
    "# Some visualization\n",
    "# Calculate reconstruction error for each data point\n",
    "reconstruction_errors = torch.mean((reconstructions - test_data_tensor)**2, dim=1).detach().numpy()\n",
    "\n",
    "# Plot the distribution of reconstruction errors\n",
    "plt.figure(figsize=(10, 6))\n",
    "plt.hist(reconstruction_errors, bins=50, alpha=0.5, color='blue', label='Reconstruction Errors')\n",
    "plt.axvline(np.mean(reconstruction_errors), color='red', linestyle='dashed', linewidth=1, label='Mean Error')\n",
    "plt.xlabel('Reconstruction Error')\n",
    "plt.ylabel('Frequency')\n",
    "plt.title('Distribution of Reconstruction Errors')\n",
    "plt.legend()\n",
    "plt.grid(True)\n",
    "plt.show()"
   ]
  }
 ],
 "metadata": {
  "kernelspec": {
   "display_name": "base",
   "language": "python",
   "name": "python3"
  },
  "language_info": {
   "codemirror_mode": {
    "name": "ipython",
    "version": 3
   },
   "file_extension": ".py",
   "mimetype": "text/x-python",
   "name": "python",
   "nbconvert_exporter": "python",
   "pygments_lexer": "ipython3",
   "version": "3.10.13"
  }
 },
 "nbformat": 4,
 "nbformat_minor": 2
}
